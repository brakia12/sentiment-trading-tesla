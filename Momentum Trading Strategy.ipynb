{
 "cells": [
  {
   "cell_type": "markdown",
   "id": "599b58f4-7ccd-4a9c-9472-f7838292a046",
   "metadata": {},
   "source": [
    "# 💸 Mood & Money: Sentiment-Aware Trading Strategy (Tesla)\n",
    "\n",
    "This project simulates a simple trading strategy based on the **sentiment of fake Tesla headlines**.  \n",
    "Using `vaderSentiment` to measure market \"mood,\" the strategy buys TSLA stock when sentiment is positive, and sells when it turns negative. 📈📉\n",
    "\n"
   ]
  },
  {
   "cell_type": "code",
   "execution_count": 2,
   "id": "356d5f06-6a2d-47d3-9b96-6f5fa059f81f",
   "metadata": {},
   "outputs": [],
   "source": [
    "import pandas as pd\n",
    "import matplotlib.pyplot as plt\n",
    "import yfinance as yf\n",
    "from vaderSentiment.vaderSentiment import SentimentIntensityAnalyzer\n"
   ]
  },
  {
   "cell_type": "code",
   "execution_count": 3,
   "id": "8b3b6d5a-ab2a-4f67-855d-41894e961db4",
   "metadata": {},
   "outputs": [
    {
     "data": {
      "text/html": [
       "<div>\n",
       "<style scoped>\n",
       "    .dataframe tbody tr th:only-of-type {\n",
       "        vertical-align: middle;\n",
       "    }\n",
       "\n",
       "    .dataframe tbody tr th {\n",
       "        vertical-align: top;\n",
       "    }\n",
       "\n",
       "    .dataframe thead th {\n",
       "        text-align: right;\n",
       "    }\n",
       "</style>\n",
       "<table border=\"1\" class=\"dataframe\">\n",
       "  <thead>\n",
       "    <tr style=\"text-align: right;\">\n",
       "      <th></th>\n",
       "      <th>Date</th>\n",
       "      <th>Headline</th>\n",
       "    </tr>\n",
       "  </thead>\n",
       "  <tbody>\n",
       "    <tr>\n",
       "      <th>0</th>\n",
       "      <td>2023-01-01</td>\n",
       "      <td>Tesla reports record profits 🚀</td>\n",
       "    </tr>\n",
       "    <tr>\n",
       "      <th>1</th>\n",
       "      <td>2023-01-08</td>\n",
       "      <td>Elon Musk tweets something wild 😬</td>\n",
       "    </tr>\n",
       "    <tr>\n",
       "      <th>2</th>\n",
       "      <td>2023-01-15</td>\n",
       "      <td>Tesla misses delivery estimates 😔</td>\n",
       "    </tr>\n",
       "    <tr>\n",
       "      <th>3</th>\n",
       "      <td>2023-01-22</td>\n",
       "      <td>New Tesla Gigafactory opens! 🏭</td>\n",
       "    </tr>\n",
       "    <tr>\n",
       "      <th>4</th>\n",
       "      <td>2023-01-29</td>\n",
       "      <td>Cybertruck delayed again 😕</td>\n",
       "    </tr>\n",
       "  </tbody>\n",
       "</table>\n",
       "</div>"
      ],
      "text/plain": [
       "        Date                           Headline\n",
       "0 2023-01-01     Tesla reports record profits 🚀\n",
       "1 2023-01-08  Elon Musk tweets something wild 😬\n",
       "2 2023-01-15  Tesla misses delivery estimates 😔\n",
       "3 2023-01-22     New Tesla Gigafactory opens! 🏭\n",
       "4 2023-01-29         Cybertruck delayed again 😕"
      ]
     },
     "execution_count": 3,
     "metadata": {},
     "output_type": "execute_result"
    }
   ],
   "source": [
    "fake_headlines = [\n",
    "    \"Tesla reports record profits 🚀\",\n",
    "    \"Elon Musk tweets something wild 😬\",\n",
    "    \"Tesla misses delivery estimates 😔\",\n",
    "    \"New Tesla Gigafactory opens! 🏭\",\n",
    "    \"Cybertruck delayed again 😕\",\n",
    "    \"Tesla faces lawsuit over crash ⚖️\",\n",
    "    \"Tesla joins S&P 500 📈\",\n",
    "    \"Worries about interest rates 🧯\",\n",
    "    \"Elon hints at a new product launch 📡\",\n",
    "    \"Analysts upgrade Tesla stock ✅\"\n",
    "]\n",
    "\n",
    "dates = pd.date_range(start=\"2023-01-01\", periods=len(fake_headlines), freq='W')\n",
    "headlines_df = pd.DataFrame({\"Date\": dates, \"Headline\": fake_headlines})\n",
    "headlines_df.head()\n"
   ]
  },
  {
   "cell_type": "code",
   "execution_count": 9,
   "id": "895b1e33-d8ca-47bd-8756-98db3e8fe908",
   "metadata": {},
   "outputs": [
    {
     "data": {
      "text/html": [
       "<div>\n",
       "<style scoped>\n",
       "    .dataframe tbody tr th:only-of-type {\n",
       "        vertical-align: middle;\n",
       "    }\n",
       "\n",
       "    .dataframe tbody tr th {\n",
       "        vertical-align: top;\n",
       "    }\n",
       "\n",
       "    .dataframe thead th {\n",
       "        text-align: right;\n",
       "    }\n",
       "</style>\n",
       "<table border=\"1\" class=\"dataframe\">\n",
       "  <thead>\n",
       "    <tr style=\"text-align: right;\">\n",
       "      <th></th>\n",
       "      <th>Date</th>\n",
       "      <th>Headline</th>\n",
       "      <th>Sentiment</th>\n",
       "    </tr>\n",
       "  </thead>\n",
       "  <tbody>\n",
       "    <tr>\n",
       "      <th>0</th>\n",
       "      <td>2023-01-01</td>\n",
       "      <td>Tesla reports record profits 🚀</td>\n",
       "      <td>0.4404</td>\n",
       "    </tr>\n",
       "    <tr>\n",
       "      <th>1</th>\n",
       "      <td>2023-01-08</td>\n",
       "      <td>Elon Musk tweets something wild 😬</td>\n",
       "      <td>-0.3400</td>\n",
       "    </tr>\n",
       "    <tr>\n",
       "      <th>2</th>\n",
       "      <td>2023-01-15</td>\n",
       "      <td>Tesla misses delivery estimates 😔</td>\n",
       "      <td>-0.1531</td>\n",
       "    </tr>\n",
       "    <tr>\n",
       "      <th>3</th>\n",
       "      <td>2023-01-22</td>\n",
       "      <td>New Tesla Gigafactory opens! 🏭</td>\n",
       "      <td>0.0000</td>\n",
       "    </tr>\n",
       "    <tr>\n",
       "      <th>4</th>\n",
       "      <td>2023-01-29</td>\n",
       "      <td>Cybertruck delayed again 😕</td>\n",
       "      <td>-0.4939</td>\n",
       "    </tr>\n",
       "    <tr>\n",
       "      <th>5</th>\n",
       "      <td>2023-02-05</td>\n",
       "      <td>Tesla faces lawsuit over crash ⚖️</td>\n",
       "      <td>-0.5574</td>\n",
       "    </tr>\n",
       "    <tr>\n",
       "      <th>6</th>\n",
       "      <td>2023-02-12</td>\n",
       "      <td>Tesla joins S&amp;P 500 📈</td>\n",
       "      <td>0.0000</td>\n",
       "    </tr>\n",
       "    <tr>\n",
       "      <th>7</th>\n",
       "      <td>2023-02-19</td>\n",
       "      <td>Worries about interest rates 🧯</td>\n",
       "      <td>-0.2960</td>\n",
       "    </tr>\n",
       "    <tr>\n",
       "      <th>8</th>\n",
       "      <td>2023-02-26</td>\n",
       "      <td>Elon hints at a new product launch 📡</td>\n",
       "      <td>0.0000</td>\n",
       "    </tr>\n",
       "    <tr>\n",
       "      <th>9</th>\n",
       "      <td>2023-03-05</td>\n",
       "      <td>Analysts upgrade Tesla stock ✅</td>\n",
       "      <td>0.0000</td>\n",
       "    </tr>\n",
       "  </tbody>\n",
       "</table>\n",
       "</div>"
      ],
      "text/plain": [
       "        Date                              Headline  Sentiment\n",
       "0 2023-01-01        Tesla reports record profits 🚀     0.4404\n",
       "1 2023-01-08     Elon Musk tweets something wild 😬    -0.3400\n",
       "2 2023-01-15     Tesla misses delivery estimates 😔    -0.1531\n",
       "3 2023-01-22        New Tesla Gigafactory opens! 🏭     0.0000\n",
       "4 2023-01-29            Cybertruck delayed again 😕    -0.4939\n",
       "5 2023-02-05     Tesla faces lawsuit over crash ⚖️    -0.5574\n",
       "6 2023-02-12                 Tesla joins S&P 500 📈     0.0000\n",
       "7 2023-02-19        Worries about interest rates 🧯    -0.2960\n",
       "8 2023-02-26  Elon hints at a new product launch 📡     0.0000\n",
       "9 2023-03-05        Analysts upgrade Tesla stock ✅     0.0000"
      ]
     },
     "execution_count": 9,
     "metadata": {},
     "output_type": "execute_result"
    }
   ],
   "source": [
    "analyzer = SentimentIntensityAnalyzer()\n",
    "headlines_df['Sentiment'] = headlines_df['Headline'].apply(lambda x: analyzer.polarity_scores(x)['compound'])\n",
    "headlines_df\n"
   ]
  },
  {
   "cell_type": "code",
   "execution_count": 13,
   "id": "cfcdb55d-6151-4c9a-aae2-4a0522ac4546",
   "metadata": {},
   "outputs": [
    {
     "name": "stderr",
     "output_type": "stream",
     "text": [
      "[*********************100%***********************]  1 of 1 completed\n"
     ]
    },
    {
     "data": {
      "text/html": [
       "<div>\n",
       "<style scoped>\n",
       "    .dataframe tbody tr th:only-of-type {\n",
       "        vertical-align: middle;\n",
       "    }\n",
       "\n",
       "    .dataframe tbody tr th {\n",
       "        vertical-align: top;\n",
       "    }\n",
       "\n",
       "    .dataframe thead th {\n",
       "        text-align: right;\n",
       "    }\n",
       "</style>\n",
       "<table border=\"1\" class=\"dataframe\">\n",
       "  <thead>\n",
       "    <tr style=\"text-align: right;\">\n",
       "      <th></th>\n",
       "      <th>Date</th>\n",
       "      <th>Close</th>\n",
       "    </tr>\n",
       "  </thead>\n",
       "  <tbody>\n",
       "    <tr>\n",
       "      <th>0</th>\n",
       "      <td>2023-01-03</td>\n",
       "      <td>108.099998</td>\n",
       "    </tr>\n",
       "    <tr>\n",
       "      <th>1</th>\n",
       "      <td>2023-01-04</td>\n",
       "      <td>113.639999</td>\n",
       "    </tr>\n",
       "    <tr>\n",
       "      <th>2</th>\n",
       "      <td>2023-01-05</td>\n",
       "      <td>110.339996</td>\n",
       "    </tr>\n",
       "    <tr>\n",
       "      <th>3</th>\n",
       "      <td>2023-01-06</td>\n",
       "      <td>113.059998</td>\n",
       "    </tr>\n",
       "    <tr>\n",
       "      <th>4</th>\n",
       "      <td>2023-01-09</td>\n",
       "      <td>119.769997</td>\n",
       "    </tr>\n",
       "  </tbody>\n",
       "</table>\n",
       "</div>"
      ],
      "text/plain": [
       "        Date       Close\n",
       "0 2023-01-03  108.099998\n",
       "1 2023-01-04  113.639999\n",
       "2 2023-01-05  110.339996\n",
       "3 2023-01-06  113.059998\n",
       "4 2023-01-09  119.769997"
      ]
     },
     "execution_count": 13,
     "metadata": {},
     "output_type": "execute_result"
    }
   ],
   "source": [
    "# Download full stock data (may come with MultiIndex columns)\n",
    "stock_df = yf.download(\"TSLA\", start=\"2023-01-01\", end=\"2024-01-01\")\n",
    "\n",
    "# If it has MultiIndex columns (like 'Close' under multiple levels), flatten them\n",
    "if isinstance(stock_df.columns, pd.MultiIndex):\n",
    "    stock_df.columns = ['_'.join(col).strip() if isinstance(col, tuple) else col for col in stock_df.columns]\n",
    "\n",
    "# Reset index to move 'Date' into a column\n",
    "stock_df = stock_df.reset_index()\n",
    "\n",
    "# Only keep 'Date' and 'Close' (flat now, might be called 'Close' or 'Close_Close')\n",
    "close_col = [col for col in stock_df.columns if 'Close' in col][0]\n",
    "stock_df = stock_df[['Date', close_col]]\n",
    "stock_df.rename(columns={close_col: 'Close'}, inplace=True)\n",
    "\n",
    "stock_df.head()\n",
    "\n",
    "\n",
    "\n"
   ]
  },
  {
   "cell_type": "code",
   "execution_count": 14,
   "id": "2cf47eba-9a56-45dd-968e-7a55141656dd",
   "metadata": {},
   "outputs": [],
   "source": [
    "stock_df['Date'] = pd.to_datetime(stock_df['Date'])\n",
    "headlines_df['Date'] = pd.to_datetime(headlines_df['Date'])\n",
    "\n"
   ]
  },
  {
   "cell_type": "code",
   "execution_count": 15,
   "id": "a2e138b7-1ec5-4707-b9bb-0105aa8b6134",
   "metadata": {},
   "outputs": [
    {
     "name": "stderr",
     "output_type": "stream",
     "text": [
      "C:\\Users\\braki\\AppData\\Local\\Temp\\ipykernel_44028\\18187240.py:2: FutureWarning: Series.fillna with 'method' is deprecated and will raise in a future version. Use obj.ffill() or obj.bfill() instead.\n",
      "  merged_df['Sentiment'] = merged_df['Sentiment'].fillna(method='ffill')\n"
     ]
    },
    {
     "data": {
      "text/html": [
       "<div>\n",
       "<style scoped>\n",
       "    .dataframe tbody tr th:only-of-type {\n",
       "        vertical-align: middle;\n",
       "    }\n",
       "\n",
       "    .dataframe tbody tr th {\n",
       "        vertical-align: top;\n",
       "    }\n",
       "\n",
       "    .dataframe thead th {\n",
       "        text-align: right;\n",
       "    }\n",
       "</style>\n",
       "<table border=\"1\" class=\"dataframe\">\n",
       "  <thead>\n",
       "    <tr style=\"text-align: right;\">\n",
       "      <th></th>\n",
       "      <th>Date</th>\n",
       "      <th>Close</th>\n",
       "      <th>Headline</th>\n",
       "      <th>Sentiment</th>\n",
       "    </tr>\n",
       "  </thead>\n",
       "  <tbody>\n",
       "    <tr>\n",
       "      <th>0</th>\n",
       "      <td>2023-01-03</td>\n",
       "      <td>108.099998</td>\n",
       "      <td>NaN</td>\n",
       "      <td>NaN</td>\n",
       "    </tr>\n",
       "    <tr>\n",
       "      <th>1</th>\n",
       "      <td>2023-01-04</td>\n",
       "      <td>113.639999</td>\n",
       "      <td>NaN</td>\n",
       "      <td>NaN</td>\n",
       "    </tr>\n",
       "    <tr>\n",
       "      <th>2</th>\n",
       "      <td>2023-01-05</td>\n",
       "      <td>110.339996</td>\n",
       "      <td>NaN</td>\n",
       "      <td>NaN</td>\n",
       "    </tr>\n",
       "    <tr>\n",
       "      <th>3</th>\n",
       "      <td>2023-01-06</td>\n",
       "      <td>113.059998</td>\n",
       "      <td>NaN</td>\n",
       "      <td>NaN</td>\n",
       "    </tr>\n",
       "    <tr>\n",
       "      <th>4</th>\n",
       "      <td>2023-01-09</td>\n",
       "      <td>119.769997</td>\n",
       "      <td>NaN</td>\n",
       "      <td>NaN</td>\n",
       "    </tr>\n",
       "  </tbody>\n",
       "</table>\n",
       "</div>"
      ],
      "text/plain": [
       "        Date       Close Headline  Sentiment\n",
       "0 2023-01-03  108.099998      NaN        NaN\n",
       "1 2023-01-04  113.639999      NaN        NaN\n",
       "2 2023-01-05  110.339996      NaN        NaN\n",
       "3 2023-01-06  113.059998      NaN        NaN\n",
       "4 2023-01-09  119.769997      NaN        NaN"
      ]
     },
     "execution_count": 15,
     "metadata": {},
     "output_type": "execute_result"
    }
   ],
   "source": [
    "merged_df = pd.merge(stock_df, headlines_df, on=\"Date\", how=\"left\")\n",
    "merged_df['Sentiment'] = merged_df['Sentiment'].fillna(method='ffill')\n",
    "merged_df.head()\n"
   ]
  },
  {
   "cell_type": "code",
   "execution_count": 16,
   "id": "98f0c4e0-03da-4c2e-8085-2e84e32027c0",
   "metadata": {},
   "outputs": [],
   "source": [
    "initial_cash = 10000\n",
    "cash = initial_cash\n",
    "shares = 0\n",
    "portfolio_values = []\n",
    "\n",
    "for i in range(len(merged_df)):\n",
    "    price = merged_df['Close'].iloc[i]\n",
    "    mood = merged_df['Sentiment'].iloc[i]\n",
    "    \n",
    "    # Buy if sentiment is strongly positive\n",
    "    if mood > 0.2 and cash > 0:\n",
    "        shares = cash / price\n",
    "        cash = 0\n",
    "    # Sell if sentiment is strongly negative\n",
    "    elif mood < -0.2 and shares > 0:\n",
    "        cash = shares * price\n",
    "        shares = 0\n",
    "    \n",
    "    total_value = cash + shares * price\n",
    "    portfolio_values.append(total_value)\n",
    "\n",
    "merged_df['Portfolio'] = portfolio_values\n",
    "merged_df['BuyHold'] = initial_cash * (merged_df['Close'] / merged_df['Close'].iloc[0])\n"
   ]
  },
  {
   "cell_type": "code",
   "execution_count": 17,
   "id": "b1697031-eea2-4bba-bf09-a0f81c2bfcb3",
   "metadata": {
    "scrolled": true
   },
   "outputs": [
    {
     "name": "stderr",
     "output_type": "stream",
     "text": [
      "C:\\Users\\braki\\anaconda3\\Lib\\site-packages\\IPython\\core\\pylabtools.py:170: UserWarning: Glyph 129504 (\\N{BRAIN}) missing from font(s) DejaVu Sans.\n",
      "  fig.canvas.print_figure(bytes_io, **kw)\n",
      "C:\\Users\\braki\\anaconda3\\Lib\\site-packages\\IPython\\core\\pylabtools.py:170: UserWarning: Glyph 128200 (\\N{CHART WITH UPWARDS TREND}) missing from font(s) DejaVu Sans.\n",
      "  fig.canvas.print_figure(bytes_io, **kw)\n"
     ]
    },
    {
     "data": {
      "image/png": "[encoded data removed]",
      "text/plain": [
       "<Figure size 1400x600 with 1 Axes>"
      ]
     },
     "metadata": {},
     "output_type": "display_data"
    }
   ],
   "source": [
    "plt.figure(figsize=(14, 6))\n",
    "plt.plot(merged_df['Date'], merged_df['Portfolio'], label='🧠 Mood-Based Strategy', linewidth=2)\n",
    "plt.plot(merged_df['Date'], merged_df['BuyHold'], label='📈 Buy & Hold', linestyle='--')\n",
    "plt.title('Tesla Sentiment Strategy vs Buy & Hold')\n",
    "plt.xlabel('Date')\n",
    "plt.ylabel('Portfolio Value ($)')\n",
    "plt.legend()\n",
    "plt.show()\n"
   ]
  },
  {
   "cell_type": "markdown",
   "id": "14fec977-a926-447e-bd5f-d51ec1bed2b3",
   "metadata": {},
   "source": [
    "##  Summary\n",
    "\n",
    "- Created a fun, mood-based trading assistant using fake Tesla headlines\n",
    "- Used sentiment scoring (VADER) to decide when to buy or sell\n",
    "- Compared strategy against a basic Buy and Hold approach\n",
    "\n",
    "\n"
   ]
  },
  {
   "cell_type": "code",
   "execution_count": null,
   "id": "899526b2-dec3-4be9-8c0d-a6e912ad9bc0",
   "metadata": {},
   "outputs": [],
   "source": []
  },
  {
   "cell_type": "code",
   "execution_count": null,
   "id": "6b4e2638-e95c-49cb-a956-4ae47002a3a5",
   "metadata": {},
   "outputs": [],
   "source": []
  }
 ],
 "metadata": {
  "kernelspec": {
   "display_name": "Python [conda env:base] *",
   "language": "python",
   "name": "conda-base-py"
  },
  "language_info": {
   "codemirror_mode": {
    "name": "ipython",
    "version": 3
   },
   "file_extension": ".py",
   "mimetype": "text/x-python",
   "name": "python",
   "nbconvert_exporter": "python",
   "pygments_lexer": "ipython3",
   "version": "3.12.7"
  }
 },
 "nbformat": 4,
 "nbformat_minor": 5
}
