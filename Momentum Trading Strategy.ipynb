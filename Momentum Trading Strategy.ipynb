{
 "cells": [
  {
   "cell_type": "markdown",
   "id": "599b58f4-7ccd-4a9c-9472-f7838292a046",
   "metadata": {},
   "source": [
    "# 💸 Mood & Money: Sentiment-Aware Trading Strategy (Tesla)\n",
    "\n",
    "This project simulates a simple trading strategy based on the **sentiment of fake Tesla headlines**.  \n",
    "Using `vaderSentiment` to measure market \"mood,\" the strategy buys TSLA stock when sentiment is positive, and sells when it turns negative. 📈📉\n",
    "\n"
   ]
  },
  {
   "cell_type": "code",
   "execution_count": 26,
   "id": "356d5f06-6a2d-47d3-9b96-6f5fa059f81f",
   "metadata": {},
   "outputs": [],
   "source": [
    "import pandas as pd\n",
    "import numpy as np\n",
    "import yfinance as yf\n",
    "from vaderSentiment.vaderSentiment import SentimentIntensityAnalyzer\n",
    "import matplotlib.pyplot as plt\n",
    "\n"
   ]
  },
  {
   "cell_type": "code",
   "execution_count": 27,
   "id": "8b3b6d5a-ab2a-4f67-855d-41894e961db4",
   "metadata": {},
   "outputs": [
    {
     "name": "stderr",
     "output_type": "stream",
     "text": [
      "[*********************100%***********************]  1 of 1 completed\n"
     ]
    },
    {
     "data": {
      "text/html": [
       "<div>\n",
       "<style scoped>\n",
       "    .dataframe tbody tr th:only-of-type {\n",
       "        vertical-align: middle;\n",
       "    }\n",
       "\n",
       "    .dataframe tbody tr th {\n",
       "        vertical-align: top;\n",
       "    }\n",
       "\n",
       "    .dataframe thead tr th {\n",
       "        text-align: left;\n",
       "    }\n",
       "</style>\n",
       "<table border=\"1\" class=\"dataframe\">\n",
       "  <thead>\n",
       "    <tr>\n",
       "      <th>Price</th>\n",
       "      <th>Date</th>\n",
       "      <th>Close</th>\n",
       "    </tr>\n",
       "    <tr>\n",
       "      <th>Ticker</th>\n",
       "      <th></th>\n",
       "      <th>TSLA</th>\n",
       "    </tr>\n",
       "  </thead>\n",
       "  <tbody>\n",
       "    <tr>\n",
       "      <th>0</th>\n",
       "      <td>2023-01-03</td>\n",
       "      <td>108.099998</td>\n",
       "    </tr>\n",
       "    <tr>\n",
       "      <th>1</th>\n",
       "      <td>2023-01-04</td>\n",
       "      <td>113.639999</td>\n",
       "    </tr>\n",
       "    <tr>\n",
       "      <th>2</th>\n",
       "      <td>2023-01-05</td>\n",
       "      <td>110.339996</td>\n",
       "    </tr>\n",
       "    <tr>\n",
       "      <th>3</th>\n",
       "      <td>2023-01-06</td>\n",
       "      <td>113.059998</td>\n",
       "    </tr>\n",
       "    <tr>\n",
       "      <th>4</th>\n",
       "      <td>2023-01-09</td>\n",
       "      <td>119.769997</td>\n",
       "    </tr>\n",
       "  </tbody>\n",
       "</table>\n",
       "</div>"
      ],
      "text/plain": [
       "Price        Date       Close\n",
       "Ticker                   TSLA\n",
       "0      2023-01-03  108.099998\n",
       "1      2023-01-04  113.639999\n",
       "2      2023-01-05  110.339996\n",
       "3      2023-01-06  113.059998\n",
       "4      2023-01-09  119.769997"
      ]
     },
     "execution_count": 27,
     "metadata": {},
     "output_type": "execute_result"
    }
   ],
   "source": [
    "# Download Tesla stock price data for 2023 (adjust dates as you want)\n",
    "stock_df = yf.download('TSLA', start='2023-01-01', end='2023-04-30')\n",
    "\n",
    "# Reset index to have 'Date' as a column\n",
    "stock_df.reset_index(inplace=True)\n",
    "\n",
    "# Keep only needed columns\n",
    "stock_df = stock_df[['Date', 'Close']]\n",
    "\n",
    "stock_df.head()\n",
    "\n"
   ]
  },
  {
   "cell_type": "code",
   "execution_count": 28,
   "id": "895b1e33-d8ca-47bd-8756-98db3e8fe908",
   "metadata": {},
   "outputs": [
    {
     "data": {
      "text/html": [
       "<div>\n",
       "<style scoped>\n",
       "    .dataframe tbody tr th:only-of-type {\n",
       "        vertical-align: middle;\n",
       "    }\n",
       "\n",
       "    .dataframe tbody tr th {\n",
       "        vertical-align: top;\n",
       "    }\n",
       "\n",
       "    .dataframe thead th {\n",
       "        text-align: right;\n",
       "    }\n",
       "</style>\n",
       "<table border=\"1\" class=\"dataframe\">\n",
       "  <thead>\n",
       "    <tr style=\"text-align: right;\">\n",
       "      <th></th>\n",
       "      <th>Date</th>\n",
       "      <th>Headline</th>\n",
       "    </tr>\n",
       "  </thead>\n",
       "  <tbody>\n",
       "    <tr>\n",
       "      <th>0</th>\n",
       "      <td>2023-01-03</td>\n",
       "      <td>Tesla expands to new markets</td>\n",
       "    </tr>\n",
       "    <tr>\n",
       "      <th>1</th>\n",
       "      <td>2023-01-04</td>\n",
       "      <td>Tesla recalls several vehicles</td>\n",
       "    </tr>\n",
       "    <tr>\n",
       "      <th>2</th>\n",
       "      <td>2023-01-05</td>\n",
       "      <td>Tesla CEO announces profit increase</td>\n",
       "    </tr>\n",
       "    <tr>\n",
       "      <th>3</th>\n",
       "      <td>2023-01-06</td>\n",
       "      <td>Tesla expands to new markets</td>\n",
       "    </tr>\n",
       "    <tr>\n",
       "      <th>4</th>\n",
       "      <td>2023-01-09</td>\n",
       "      <td>Tesla stock hits record high</td>\n",
       "    </tr>\n",
       "  </tbody>\n",
       "</table>\n",
       "</div>"
      ],
      "text/plain": [
       "        Date                             Headline\n",
       "0 2023-01-03         Tesla expands to new markets\n",
       "1 2023-01-04       Tesla recalls several vehicles\n",
       "2 2023-01-05  Tesla CEO announces profit increase\n",
       "3 2023-01-06         Tesla expands to new markets\n",
       "4 2023-01-09         Tesla stock hits record high"
      ]
     },
     "execution_count": 28,
     "metadata": {},
     "output_type": "execute_result"
    }
   ],
   "source": [
    "# For simplicity, create fake headlines matching stock dates\n",
    "# We'll assign random positive or negative headlines for demo purposes\n",
    "\n",
    "np.random.seed(42)  # For reproducibility\n",
    "\n",
    "dates = stock_df['Date']\n",
    "\n",
    "# Sample headlines (positive and negative)\n",
    "headlines_list = [\n",
    "    \"Tesla launches new innovative model\",\n",
    "    \"Tesla faces production delays\",\n",
    "    \"Tesla stock hits record high\",\n",
    "    \"Tesla recalls several vehicles\",\n",
    "    \"Tesla CEO announces profit increase\",\n",
    "    \"Tesla under investigation for safety\",\n",
    "    \"Tesla expands to new markets\",\n",
    "    \"Tesla delivery numbers disappoint\",\n",
    "]\n",
    "\n",
    "# Randomly assign headlines to dates\n",
    "headlines = np.random.choice(headlines_list, size=len(dates))\n",
    "\n",
    "headlines_df = pd.DataFrame({\n",
    "    'Date': dates,\n",
    "    'Headline': headlines\n",
    "})\n",
    "\n",
    "headlines_df.head()\n",
    "\n"
   ]
  },
  {
   "cell_type": "code",
   "execution_count": 29,
   "id": "cfcdb55d-6151-4c9a-aae2-4a0522ac4546",
   "metadata": {},
   "outputs": [
    {
     "data": {
      "text/html": [
       "<div>\n",
       "<style scoped>\n",
       "    .dataframe tbody tr th:only-of-type {\n",
       "        vertical-align: middle;\n",
       "    }\n",
       "\n",
       "    .dataframe tbody tr th {\n",
       "        vertical-align: top;\n",
       "    }\n",
       "\n",
       "    .dataframe thead th {\n",
       "        text-align: right;\n",
       "    }\n",
       "</style>\n",
       "<table border=\"1\" class=\"dataframe\">\n",
       "  <thead>\n",
       "    <tr style=\"text-align: right;\">\n",
       "      <th></th>\n",
       "      <th>Date</th>\n",
       "      <th>Headline</th>\n",
       "      <th>Sentiment</th>\n",
       "    </tr>\n",
       "  </thead>\n",
       "  <tbody>\n",
       "    <tr>\n",
       "      <th>0</th>\n",
       "      <td>2023-01-03</td>\n",
       "      <td>Tesla expands to new markets</td>\n",
       "      <td>0.1027</td>\n",
       "    </tr>\n",
       "    <tr>\n",
       "      <th>1</th>\n",
       "      <td>2023-01-04</td>\n",
       "      <td>Tesla recalls several vehicles</td>\n",
       "      <td>0.0000</td>\n",
       "    </tr>\n",
       "    <tr>\n",
       "      <th>2</th>\n",
       "      <td>2023-01-05</td>\n",
       "      <td>Tesla CEO announces profit increase</td>\n",
       "      <td>0.6369</td>\n",
       "    </tr>\n",
       "    <tr>\n",
       "      <th>3</th>\n",
       "      <td>2023-01-06</td>\n",
       "      <td>Tesla expands to new markets</td>\n",
       "      <td>0.1027</td>\n",
       "    </tr>\n",
       "    <tr>\n",
       "      <th>4</th>\n",
       "      <td>2023-01-09</td>\n",
       "      <td>Tesla stock hits record high</td>\n",
       "      <td>0.0000</td>\n",
       "    </tr>\n",
       "  </tbody>\n",
       "</table>\n",
       "</div>"
      ],
      "text/plain": [
       "        Date                             Headline  Sentiment\n",
       "0 2023-01-03         Tesla expands to new markets     0.1027\n",
       "1 2023-01-04       Tesla recalls several vehicles     0.0000\n",
       "2 2023-01-05  Tesla CEO announces profit increase     0.6369\n",
       "3 2023-01-06         Tesla expands to new markets     0.1027\n",
       "4 2023-01-09         Tesla stock hits record high     0.0000"
      ]
     },
     "execution_count": 29,
     "metadata": {},
     "output_type": "execute_result"
    }
   ],
   "source": [
    "analyzer = SentimentIntensityAnalyzer()\n",
    "\n",
    "# Calculate sentiment score for each headline\n",
    "headlines_df['Sentiment'] = headlines_df['Headline'].apply(lambda x: analyzer.polarity_scores(x)['compound'])\n",
    "\n",
    "headlines_df.head()\n",
    "\n",
    "\n",
    "\n",
    "\n"
   ]
  },
  {
   "cell_type": "code",
   "execution_count": 31,
   "id": "7d196f72-6fab-45aa-a116-661841479400",
   "metadata": {},
   "outputs": [],
   "source": [
    "# Flatten multi-level columns to single level if needed\n",
    "if isinstance(stock_df.columns, pd.MultiIndex):\n",
    "    stock_df.columns = stock_df.columns.get_level_values(0)\n",
    "\n",
    "if isinstance(headlines_df.columns, pd.MultiIndex):\n",
    "    headlines_df.columns = headlines_df.columns.get_level_values(0)\n"
   ]
  },
  {
   "cell_type": "code",
   "execution_count": 32,
   "id": "2cf47eba-9a56-45dd-968e-7a55141656dd",
   "metadata": {},
   "outputs": [
    {
     "name": "stderr",
     "output_type": "stream",
     "text": [
      "C:\\Users\\braki\\AppData\\Local\\Temp\\ipykernel_44028\\3165298961.py:5: FutureWarning: Series.fillna with 'method' is deprecated and will raise in a future version. Use obj.ffill() or obj.bfill() instead.\n",
      "  merged_df['Sentiment'] = merged_df['Sentiment'].fillna(method='ffill')\n"
     ]
    },
    {
     "data": {
      "text/html": [
       "<div>\n",
       "<style scoped>\n",
       "    .dataframe tbody tr th:only-of-type {\n",
       "        vertical-align: middle;\n",
       "    }\n",
       "\n",
       "    .dataframe tbody tr th {\n",
       "        vertical-align: top;\n",
       "    }\n",
       "\n",
       "    .dataframe thead th {\n",
       "        text-align: right;\n",
       "    }\n",
       "</style>\n",
       "<table border=\"1\" class=\"dataframe\">\n",
       "  <thead>\n",
       "    <tr style=\"text-align: right;\">\n",
       "      <th></th>\n",
       "      <th>Date</th>\n",
       "      <th>Close</th>\n",
       "      <th>Headline</th>\n",
       "      <th>Sentiment</th>\n",
       "    </tr>\n",
       "  </thead>\n",
       "  <tbody>\n",
       "    <tr>\n",
       "      <th>0</th>\n",
       "      <td>2023-01-03</td>\n",
       "      <td>108.099998</td>\n",
       "      <td>Tesla expands to new markets</td>\n",
       "      <td>0.1027</td>\n",
       "    </tr>\n",
       "    <tr>\n",
       "      <th>1</th>\n",
       "      <td>2023-01-04</td>\n",
       "      <td>113.639999</td>\n",
       "      <td>Tesla recalls several vehicles</td>\n",
       "      <td>0.0000</td>\n",
       "    </tr>\n",
       "    <tr>\n",
       "      <th>2</th>\n",
       "      <td>2023-01-05</td>\n",
       "      <td>110.339996</td>\n",
       "      <td>Tesla CEO announces profit increase</td>\n",
       "      <td>0.6369</td>\n",
       "    </tr>\n",
       "    <tr>\n",
       "      <th>3</th>\n",
       "      <td>2023-01-06</td>\n",
       "      <td>113.059998</td>\n",
       "      <td>Tesla expands to new markets</td>\n",
       "      <td>0.1027</td>\n",
       "    </tr>\n",
       "    <tr>\n",
       "      <th>4</th>\n",
       "      <td>2023-01-09</td>\n",
       "      <td>119.769997</td>\n",
       "      <td>Tesla stock hits record high</td>\n",
       "      <td>0.0000</td>\n",
       "    </tr>\n",
       "  </tbody>\n",
       "</table>\n",
       "</div>"
      ],
      "text/plain": [
       "        Date       Close                             Headline  Sentiment\n",
       "0 2023-01-03  108.099998         Tesla expands to new markets     0.1027\n",
       "1 2023-01-04  113.639999       Tesla recalls several vehicles     0.0000\n",
       "2 2023-01-05  110.339996  Tesla CEO announces profit increase     0.6369\n",
       "3 2023-01-06  113.059998         Tesla expands to new markets     0.1027\n",
       "4 2023-01-09  119.769997         Tesla stock hits record high     0.0000"
      ]
     },
     "execution_count": 32,
     "metadata": {},
     "output_type": "execute_result"
    }
   ],
   "source": [
    "# Merge stock data and headlines on 'Date'\n",
    "merged_df = pd.merge(stock_df, headlines_df, on='Date', how='left')\n",
    "\n",
    "# Fill any missing sentiment forward (if any)\n",
    "merged_df['Sentiment'] = merged_df['Sentiment'].fillna(method='ffill')\n",
    "\n",
    "merged_df.head()\n"
   ]
  },
  {
   "cell_type": "code",
   "execution_count": 33,
   "id": "a2e138b7-1ec5-4707-b9bb-0105aa8b6134",
   "metadata": {},
   "outputs": [
    {
     "name": "stderr",
     "output_type": "stream",
     "text": [
      "C:\\Users\\braki\\AppData\\Local\\Temp\\ipykernel_44028\\3173957630.py:2: FutureWarning: Series.fillna with 'method' is deprecated and will raise in a future version. Use obj.ffill() or obj.bfill() instead.\n",
      "  merged_df['Sentiment'] = merged_df['Sentiment'].fillna(method='ffill')\n"
     ]
    }
   ],
   "source": [
    "# After merging and filling missing sentiment:\n",
    "merged_df['Sentiment'] = merged_df['Sentiment'].fillna(method='ffill')\n",
    "\n",
    "# Create a Position column based on sentiment\n",
    "merged_df['Position'] = merged_df['Sentiment'].apply(lambda x: 1 if x > 0 else -1)\n",
    "\n",
    "# Calculate strategy returns\n",
    "strategy_returns = merged_df['Position'].shift(1) * merged_df['Close'].pct_change()\n",
    "strategy_returns.iloc[0] = 0  # no return on first day\n",
    "\n",
    "\n"
   ]
  },
  {
   "cell_type": "code",
   "execution_count": 34,
   "id": "98f0c4e0-03da-4c2e-8085-2e84e32027c0",
   "metadata": {},
   "outputs": [],
   "source": [
    "initial_investment = 1000\n",
    "\n",
    "# Buy & Hold portfolio value (normalized to start at 1000)\n",
    "buy_and_hold = (merged_df['Close'] / merged_df['Close'].iloc[0]) * initial_investment\n",
    "\n",
    "# Calculate daily returns for sentiment strategy\n",
    "strategy_returns = merged_df['Position'].shift(1) * merged_df['Close'].pct_change()\n",
    "strategy_returns.iloc[0] = 0  # no return on first day\n",
    "\n",
    "# Cumulative product for portfolio growth\n",
    "strategy_cum_returns = (1 + strategy_returns).cumprod() * initial_investment\n",
    "\n",
    "\n"
   ]
  },
  {
   "cell_type": "code",
   "execution_count": 37,
   "id": "b1697031-eea2-4bba-bf09-a0f81c2bfcb3",
   "metadata": {
    "scrolled": true
   },
   "outputs": [
    {
     "data": {
      "image/png": "[encoded data removed]",
      "text/plain": [
       "<Figure size 1400x700 with 1 Axes>"
      ]
     },
     "metadata": {},
     "output_type": "display_data"
    }
   ],
   "source": [
    "plt.figure(figsize=(14,7))\n",
    "\n",
    "# Plot Buy & Hold in blue\n",
    "plt.plot(merged_df['Date'], buy_and_hold, label='Buy & Hold', color='blue')\n",
    "\n",
    "# Plot Sentiment Strategy in orange\n",
    "plt.plot(merged_df['Date'], strategy_cum_returns, label='Sentiment Strategy', color='orange')\n",
    "\n",
    "# Correct Buy/Sell signal logic: look for sentiment flips\n",
    "buy_signals = merged_df[(merged_df['Position'] == 1) & (merged_df['Position'].shift(1) == -1)]\n",
    "sell_signals = merged_df[(merged_df['Position'] == -1) & (merged_df['Position'].shift(1) == 1)]\n",
    "\n",
    "# Plot Buy signals on the orange line (sentiment strategy)\n",
    "plt.scatter(buy_signals['Date'], \n",
    "            strategy_cum_returns[buy_signals.index], \n",
    "            marker='^', color='green', s=100, label='Buy Signal')\n",
    "\n",
    "# Plot Sell signals on the orange line (sentiment strategy)\n",
    "plt.scatter(sell_signals['Date'], \n",
    "            strategy_cum_returns[sell_signals.index], \n",
    "            marker='v', color='red', s=100, label='Sell Signal')\n",
    "\n",
    "plt.title('Portfolio Value Over Time: Buy & Hold vs Sentiment Strategy')\n",
    "plt.xlabel('Date')\n",
    "plt.ylabel('Portfolio Value ($)')\n",
    "plt.legend()\n",
    "plt.grid(True)\n",
    "plt.show()\n"
   ]
  },
  {
   "cell_type": "code",
   "execution_count": 38,
   "id": "9cfa97a0-b4fc-41d5-a119-d5923e1ed830",
   "metadata": {},
   "outputs": [
    {
     "name": "stdout",
     "output_type": "stream",
     "text": [
      "Initial Investment: $1000\n",
      "Buy & Hold Portfolio Value: $1519.98\n",
      "Sentiment Strategy Portfolio Value: $925.39\n",
      "Buy & Hold outperformed the sentiment strategy.\n"
     ]
    }
   ],
   "source": [
    "print(f\"Initial Investment: ${initial_investment}\")\n",
    "print(f\"Buy & Hold Portfolio Value: ${buy_and_hold.iloc[-1]:.2f}\")\n",
    "print(f\"Sentiment Strategy Portfolio Value: ${strategy_cum_returns.iloc[-1]:.2f}\")\n",
    "\n",
    "if strategy_cum_returns.iloc[-1] > buy_and_hold.iloc[-1]:\n",
    "    print(\"The sentiment strategy outperformed Buy & Hold!\")\n",
    "else:\n",
    "    print(\"Buy & Hold outperformed the sentiment strategy.\")"
   ]
  },
  {
   "cell_type": "markdown",
   "id": "14fec977-a926-447e-bd5f-d51ec1bed2b3",
   "metadata": {},
   "source": [
    "##  Summary\n",
    "\n",
    "- Created a fun, mood-based trading assistant using fake Tesla headlines\n",
    "- Used sentiment scoring (VADER) to decide when to buy or sell\n",
    "- Compared strategy against a basic Buy and Hold approach\n",
    "\n",
    "\n"
   ]
  },
  {
   "cell_type": "code",
   "execution_count": null,
   "id": "899526b2-dec3-4be9-8c0d-a6e912ad9bc0",
   "metadata": {},
   "outputs": [],
   "source": []
  },
  {
   "cell_type": "code",
   "execution_count": null,
   "id": "6b4e2638-e95c-49cb-a956-4ae47002a3a5",
   "metadata": {},
   "outputs": [],
   "source": []
  }
 ],
 "metadata": {
  "kernelspec": {
   "display_name": "Python [conda env:base] *",
   "language": "python",
   "name": "conda-base-py"
  },
  "language_info": {
   "codemirror_mode": {
    "name": "ipython",
    "version": 3
   },
   "file_extension": ".py",
   "mimetype": "text/x-python",
   "name": "python",
   "nbconvert_exporter": "python",
   "pygments_lexer": "ipython3",
   "version": "3.12.7"
  }
 },
 "nbformat": 4,
 "nbformat_minor": 5
}
